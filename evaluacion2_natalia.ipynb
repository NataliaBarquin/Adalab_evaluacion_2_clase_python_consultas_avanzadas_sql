{
 "cells": [
  {
   "attachments": {},
   "cell_type": "markdown",
   "metadata": {},
   "source": [
    "En esta evaluación tendremos que crearnos una clase. Estamos trabajando para una editorial y tienen muchos ficheros de tipo .txt. Quieren hacer un estudio de palabras de los textos que tienen, para ello nos piden que nos creemos una clase que:\n",
    "\n",
    "- Reciba dos parámetros en el método constructor: \n",
    "\n",
    "    - La ruta donde se encuentra el fichero\n",
    "    - El nombre y la extensión del fichero que quieren abrir. \n",
    "\n",
    "- Tenga un método que nos abra el fichero en python, como un único *string*. Este método tiene que ser capaz de abrir cualquier tipo de fichero y que este ubicado en cualquier ubicación de nuestros ordenadores. \n",
    "\n",
    "- Tenga un método que lea un número \"X\" de palabras del texto. En este caso, el número de palabras que queremos leer debe ser un parámetro de este método. En este código deberemos incluir:\n",
    "    - Que si nos pasan como valor de número de palabras un número que no sea *integer*, nos salga un mensaje por pantalla que nos avise que la operación no se pueden hacer ya que necesitamos que sea un número *integer*. \n",
    "\n",
    "- Similar que en el paso anterior, crea un método que nos permita leer \"X\" lineas del texto. En este caso, el número de lineas que quiere leer el usuario no debe ser un parámetro del método. Tendremos que:\n",
    "\n",
    "    - Crear un *input* en el método que le pregunte al usuario cuántas líneas quiere leer\n",
    "\n",
    "    - Que tenga un control de errores por si el valor que nos pasa el usuario no es correcto, como por ejemplo un valor decimal. \n",
    "\n",
    "    - Además tenemos que tener en cuenta en el código que puede que el usuario quiera leer todas las líneas del archivo. Incluye en el programa el código necesario para que si el usuario nos indica que quiere leer todas las líneas el programa lo pueda hacer.  \n",
    "\n",
    "    **BONUS** En vez de devolver el resultado como una lista de *string* devuelvelo como un único *string*. \n",
    "\n",
    "- En este punto de la evaluación ya os habréis dado cuenta que en este fichero las primeras lineas no corresponden al quijote. Pero entonces... ¿en qué punto empieza el libro del quijote? En concreto, el libro está comprendido entre la lineas 1780 y 74276. Crea un método que solo nos devuelva el contenido del libro, sin la introducción inicial. \n",
    "\n",
    "\n",
    "-  Crea un último método en la clase que nos permita extraer las veces que aparece determinada palabra en el libro. Para eso este método deberá: \n",
    "\n",
    "    - Recibir la palabra o palabras que quiere buscar el usuario en el texto. \n",
    "    - Devolver el número de veces que aparece dicha palabra. \n",
    "    - Para confirmar que vuestro código, deberéis buscar las siguientes palabras como ejemplos de este método: \n",
    "\n",
    "        - Quijote, debemos tener en cuenta que aparezca en mayúscula o en minúscula, es decir, \"Quijote\" o \"quijote\"\n",
    "\n",
    "        - Alonso,  debemos tener en cuenta que aparezca en mayúscula o en minúscula, es decir, \"Quijote\" o \"quijote\"\n",
    "\n",
    "        - Don Quijote, debemos tener en cuenta que aparezca en mayúscula o en minúscula, es decir, \"Quijote\" o \"quijote\"\n",
    "    \n",
    "- **Nota**: Puede que tengáis algunos problemas para abrir el fichero, esto es por el `encoding` que tiene. Para solucionar este problema deberéis usar un encoding = \"latin-1\"\n",
    "\n",
    "- **Nota**: El fichero de `quijote.txt` debe encontrarse en una carpeta llamada `data`, diferente de donde se encuentra este fichero jupyter con la resolución."
   ]
  },
  {
   "cell_type": "code",
   "execution_count": 1,
   "metadata": {},
   "outputs": [],
   "source": [
    "import os\n",
    "import re\n",
    "import xml.etree.ElementTree as ET #Necesitaríamos esta librería si quisiéramos trabajar con un archivo xml. En este caso no la necesitaremos."
   ]
  },
  {
   "cell_type": "code",
   "execution_count": 2,
   "metadata": {},
   "outputs": [],
   "source": [
    "class Estudio_textos:\n",
    "\n",
    "    def __init__(self, ruta, fichero):\n",
    "        '''\n",
    "        Define el método constructor.\n",
    "        Parámetro: ruta del archivo, nombre del archivo.\n",
    "        Return: No tiene return, pero los parámetros que crea serán utilizados en los métodos de la clase.\n",
    "        '''\n",
    "        self.ruta = ruta\n",
    "        self.fichero = fichero\n",
    "\n",
    "\n",
    "    def apertura_txt(self):\n",
    "        '''\n",
    "        Define un método para los archivos txt, para posteriormente trabajar en el método apertura_ficheros que se solicita en la evaluacion.\n",
    "        Este método abre el archivo que se solicita, lee su contenido y lo devuelve en forma de lista, y transforma esta lista en un string.\n",
    "        Parámetro: No recibe. Se usan los atributos de instancia.\n",
    "        Return: devuelve el contenido del fichero en un único string.\n",
    "        '''\n",
    "        with open (f'{self.ruta}/{self.fichero}', mode = 'r', encoding = 'latin-1') as fichero_txt:\n",
    "            lista_apertura = fichero_txt.readlines()\n",
    "            string_apertura = ''.join(lista_apertura)\n",
    "            return string_apertura\n",
    "    \n",
    "\n",
    "    def apertura_xml(self):\n",
    "        '''\n",
    "        Define un método para los archivos xml.\n",
    "        Este método abre el archivo que se solicita, y devuelve el elemento raíz del archivo. \n",
    "        Parámetro: No recibe. Se usan los atributos de instancia.\n",
    "        Return: devuelve el elemento principal.\n",
    "        '''\n",
    "        tree = ET.parse(f'{self.ruta}/{self.fichero}') #Abriría el fichero xml\n",
    "        root = tree.getroot() #Sacaría el elemento principal\n",
    "\n",
    "\n",
    "    def apertura_ficheros(self):\n",
    "        '''Con los dos métodos creados previamente, decide cuál es el fichero que se debe abrir.\n",
    "        Para ello busca el formato de archivo mediante regex, y ejecuta el que coincida.\n",
    "        Parámetro: No recibe. Se usan los atributos de instancia.\n",
    "        Return: la apertura del archivo correspondiente.\n",
    "         '''\n",
    "        if ''.join(re.findall('\\.txt$', self.fichero)) == '.txt':\n",
    "            return self.apertura_txt()\n",
    "\n",
    "        if ''.join(re.findall('\\.xml$', self.fichero)) == '.xml':\n",
    "            return self.apertura_xml()\n",
    "                \n",
    "\n",
    "# A partir de este momento, se planteará la clase para archivos txt ya que es el tipo de archivo con el que se debe trabajar en este caso.\n",
    "\n",
    "    def lectura_palabras(self, num_palabras_leer):\n",
    "        '''Lee un número de palabras del texto, el que se le indique como argumento.\n",
    "        Parámetro: número de palabras que se desean leer.\n",
    "        Return: Esas palabras.\n",
    "         '''\n",
    "        if type(num_palabras_leer) is not int:\n",
    "            print('Prueba otra vez, debes introducir un número que no tenga decimales')\n",
    "        \n",
    "        else:\n",
    "            with open (f'{self.ruta}/{self.fichero}', mode = 'r', encoding = 'latin-1') as fichero_txt:\n",
    "                lectura_fichero = fichero_txt.readlines() #devuelve una lista de strings con las líneas del texto\n",
    "                string_lectura_fichero = ''.join(lectura_fichero)\n",
    "                lista_palabras = string_lectura_fichero.split() #separa el string en palabras. Se hace esto porque se necesitan palabras y no líneas.\n",
    "                return lista_palabras[0:num_palabras_leer]\n",
    "        \n",
    "  \n",
    "    def lectura_lineas(self):\n",
    "        '''Lee un número de líneas del texto, el que el usuario le indique dentro de un input.\n",
    "        Parámetro: Este método no recibe parámetros, se consigue con un input.\n",
    "        Return: Esas palabras.\n",
    "         '''\n",
    "        with open (f'{self.ruta}/{self.fichero}', mode = 'r', encoding = 'latin-1') as fichero_txt:\n",
    "            lectura_lineas = fichero_txt.readlines() #devuelve una lista de strings con las líneas del texto. Como queremos trabajar con lineas, no se hace join.\n",
    "\n",
    "        num_lineas_leer = input('¿Cuántas líneas quieres leer?')\n",
    "\n",
    "        try:\n",
    "            if num_lineas_leer == 'Todas' or num_lineas_leer == 'todas':\n",
    "                lineas_leer_todo = lectura_lineas[0:-1]\n",
    "                return ''.join(lineas_leer_todo) #Se realiza join para que devuelva un único string como indica el ejercicio bonus.\n",
    "\n",
    "            if type(int(num_lineas_leer)) is int:\n",
    "                lineas_leer = lectura_lineas[0:int(num_lineas_leer)]\n",
    "                return ''.join(lineas_leer) #Se realiza join para que devuelva un único string como indica el ejercicio bonus.\n",
    "                    \n",
    "        except:\n",
    "            print('Prueba otra vez, debes escribir un número sin decimales, o \"Todas\", si quieres leer todas las líneas')\n",
    "\n",
    "\n",
    "    def contenido_libro(self, linea_inicio, linea_final):\n",
    "        '''Devuelve el contenido del libro dentro del archivo, comprendido entre dos líneas.\n",
    "        Parámetros: dos: la línea en la que debe empezar el contenido y la línea en la que debe acabar.\n",
    "        Return: Contenido del libro.\n",
    "         '''        \n",
    "        with open (f'{self.ruta}/{self.fichero}', mode = 'r', encoding = 'latin-1') as fichero_txt:\n",
    "            lectura_contenido = fichero_txt.readlines()\n",
    "\n",
    "        try: # usamos try porque index puede devolver error y queremos evitarlo.\n",
    "            texto_libro = lectura_contenido[linea_inicio:linea_final] #se buscan las líneas de la lista por medio de sus índices\n",
    "            return texto_libro\n",
    "        except:\n",
    "             print('Prueba otra vez, revisa las líneas que quieres añadir')\n",
    "\n",
    "\n",
    "    def extraccion_palabra(self, palabra):\n",
    "        '''Busca cuántas veces aparece en el texto una palabra concreta.\n",
    "        Parámetro: La palabra que debe buscar.\n",
    "        Return: Las veces que sale esa palabra.\n",
    "         '''\n",
    "        with open (f'{self.ruta}/{self.fichero}', mode = 'r', encoding = 'latin-1') as fichero_txt:\n",
    "            sacar_palabras = fichero_txt.readlines()\n",
    "            string_sacar_palabras = ''.join(sacar_palabras)\n",
    "\n",
    "        num_veces = string_sacar_palabras.count(palabra.lower())\n",
    "        num_veces += string_sacar_palabras.count(palabra.title()) #se unifican las palabras que empiezan por mayus y minus\n",
    "        return num_veces"
   ]
  },
  {
   "cell_type": "code",
   "execution_count": 3,
   "metadata": {},
   "outputs": [
    {
     "data": {
      "text/plain": [
       "'Project Gutenberg Etext of Don Quijote, by Cervantes, in Spanish\\n\\n#2 in our series by Cervantes\\n\\n\\n\\nW'"
      ]
     },
     "execution_count": 3,
     "metadata": {},
     "output_type": "execute_result"
    }
   ],
   "source": [
    "quijote = Estudio_textos(\"data/\", \"quijote.txt\")\n",
    "apertura_txt_result = quijote.apertura_txt()\n",
    "apertura_txt_result[0:100]"
   ]
  },
  {
   "cell_type": "code",
   "execution_count": 4,
   "metadata": {},
   "outputs": [
    {
     "data": {
      "text/plain": [
       "'Project Gutenberg Etext of Don Quijote, by Cervantes, in Spanish\\n\\n#2 in our series by Cervantes\\n\\n\\n\\nW'"
      ]
     },
     "execution_count": 4,
     "metadata": {},
     "output_type": "execute_result"
    }
   ],
   "source": [
    "quijote = Estudio_textos(\"data/\", \"quijote.txt\")\n",
    "apertura_generica_result = quijote.apertura_ficheros()\n",
    "apertura_generica_result[0:100]"
   ]
  },
  {
   "cell_type": "code",
   "execution_count": 5,
   "metadata": {},
   "outputs": [
    {
     "data": {
      "text/plain": [
       "['Project',\n",
       " 'Gutenberg',\n",
       " 'Etext',\n",
       " 'of',\n",
       " 'Don',\n",
       " 'Quijote,',\n",
       " 'by',\n",
       " 'Cervantes,',\n",
       " 'in',\n",
       " 'Spanish',\n",
       " '#2',\n",
       " 'in',\n",
       " 'our',\n",
       " 'series',\n",
       " 'by',\n",
       " 'Cervantes',\n",
       " 'We',\n",
       " 'will',\n",
       " 'be',\n",
       " 'presenting']"
      ]
     },
     "execution_count": 5,
     "metadata": {},
     "output_type": "execute_result"
    }
   ],
   "source": [
    "quijote = Estudio_textos(\"data/\", \"quijote.txt\")\n",
    "lectura_palabras_result = quijote.lectura_palabras(20)\n",
    "lectura_palabras_result"
   ]
  },
  {
   "cell_type": "code",
   "execution_count": 6,
   "metadata": {},
   "outputs": [
    {
     "data": {
      "text/plain": [
       "'Project Gutenberg Etext of Don Quijote, by Cervantes, in Spanish\\n\\n#2 in our series by Cervantes\\n'"
      ]
     },
     "execution_count": 6,
     "metadata": {},
     "output_type": "execute_result"
    }
   ],
   "source": [
    "quijote = Estudio_textos(\"data/\", \"quijote.txt\")\n",
    "lectura_lineas_result = quijote.lectura_lineas()\n",
    "lectura_lineas_result"
   ]
  },
  {
   "cell_type": "code",
   "execution_count": 7,
   "metadata": {},
   "outputs": [
    {
     "data": {
      "text/plain": [
       "['En un lugar de la Mancha, de cuyo nombre no quiero acordarme, no ha mucho\\n',\n",
       " '\\n',\n",
       " 'tiempo que vivía un hidalgo de los de lanza en astillero, adarga antigua,\\n',\n",
       " '\\n',\n",
       " 'rocín flaco y galgo corredor. Una olla de algo más vaca que carnero,\\n',\n",
       " '\\n',\n",
       " 'salpicón las más noches, duelos y quebrantos los sábados, lantejas los\\n',\n",
       " '\\n',\n",
       " 'viernes, algún palomino de añadidura los domingos, consumían las tres\\n',\n",
       " '\\n']"
      ]
     },
     "execution_count": 7,
     "metadata": {},
     "output_type": "execute_result"
    }
   ],
   "source": [
    "quijote = Estudio_textos(\"data/\", \"quijote.txt\")\n",
    "lectura_contenido_result = quijote.contenido_libro(1780, 74276)\n",
    "lectura_contenido_result[:10]"
   ]
  },
  {
   "cell_type": "code",
   "execution_count": 8,
   "metadata": {},
   "outputs": [
    {
     "name": "stdout",
     "output_type": "stream",
     "text": [
      "2171\n",
      "10\n",
      "76\n",
      "--------\n",
      "2171\n",
      "10\n",
      "76\n"
     ]
    }
   ],
   "source": [
    "quijote = Estudio_textos(\"data/\", \"quijote.txt\")\n",
    "\n",
    "num_veces_quijote = quijote.extraccion_palabra('quijote')\n",
    "print(num_veces_quijote)\n",
    "num_veces_alonso = quijote.extraccion_palabra('alonso')\n",
    "print(num_veces_alonso)\n",
    "num_veces_don_quijote = quijote.extraccion_palabra('don quijote')\n",
    "print(num_veces_don_quijote)\n",
    "\n",
    "print('--------')\n",
    "\n",
    "num_veces_quijote_mayus = quijote.extraccion_palabra('Quijote')\n",
    "print(num_veces_quijote_mayus)\n",
    "num_veces_alonso_mayus = quijote.extraccion_palabra('Alonso')\n",
    "print(num_veces_alonso_mayus)\n",
    "num_veces_don_quijote_mayus = quijote.extraccion_palabra('Don Quijote')\n",
    "print(num_veces_don_quijote_mayus)\n"
   ]
  }
 ],
 "metadata": {
  "kernelspec": {
   "display_name": "Python 3",
   "language": "python",
   "name": "python3"
  },
  "language_info": {
   "codemirror_mode": {
    "name": "ipython",
    "version": 3
   },
   "file_extension": ".py",
   "mimetype": "text/x-python",
   "name": "python",
   "nbconvert_exporter": "python",
   "pygments_lexer": "ipython3",
   "version": "3.10.11"
  },
  "orig_nbformat": 4,
  "vscode": {
   "interpreter": {
    "hash": "31f2aee4e71d21fbe5cf8b01ff0e069b9275f58929596ceb00d14d90e3e16cd6"
   }
  }
 },
 "nbformat": 4,
 "nbformat_minor": 2
}
