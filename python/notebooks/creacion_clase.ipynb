{
 "cells": [
  {
   "attachments": {},
   "cell_type": "markdown",
   "metadata": {},
   "source": [
    "### CREACIÓN DE CLASE PARA LECTURA DE ARCHIVOS DE TEXTO EDITORIALES.\n",
    "-----------------\n",
    "\n",
    "Queremos crear una clase que permita abrir y realizar un estudio de las palabras de los textos que se encuentran dentro de ficheros de tipo .txt, ya que el cliente es una empresa editorial.\n",
    "\n",
    "Esta clase debe cumplir una serie de requisitos:\n",
    "\n",
    "- Debe abrir el fichero en python, como un único *string*. Este método tiene que ser capaz de abrir cualquier tipo de fichero y que este ubicado en cualquier ubicación de nuestros ordenadores. \n",
    "\n",
    "- Debe tener la opción de poder leer un número \"X\" de palabras del texto.\n",
    "\n",
    "- Debe tener la opción de poder leer un número \"X\" de líneas del texto, en este caso mediante un *input* que le pregunte al usuario cuántas líneas quiere leer.\n",
    "\n",
    "- Debe tener la opción de poder leer solo el contenido del libro, sin las páginas iniciales. Se le debe indicar cuales son las páginas del contenido del libro.\n",
    "\n",
    "- Se debe poder extraer el número de veces que aparece determinada palabra en el libro, sin importar si están en minúscula o mayúscula."
   ]
  },
  {
   "cell_type": "code",
   "execution_count": 1,
   "metadata": {},
   "outputs": [],
   "source": [
    "import os"
   ]
  },
  {
   "cell_type": "code",
   "execution_count": 2,
   "metadata": {},
   "outputs": [],
   "source": [
    "class Estudio_textos:\n",
    "\n",
    "    def __init__(self, ruta, fichero):\n",
    "        '''\n",
    "        Define el método constructor.\n",
    "        Parámetro: ruta del archivo, nombre del archivo.\n",
    "        Return: No tiene return, pero los parámetros que crea serán utilizados en los métodos de la clase.\n",
    "        '''\n",
    "        self.ruta = ruta\n",
    "        self.fichero = fichero\n",
    "\n",
    "\n",
    "    def apertura_ficheros(self):\n",
    "        '''\n",
    "        Este método abre el archivo que se solicita, lee su contenido y lo devuelve en forma de lista, y transforma esta lista en un string.\n",
    "        Parámetro: No recibe. Se usan los atributos de instancia.\n",
    "        Return: devuelve el contenido del fichero en un único string.\n",
    "        '''\n",
    "        with open (f'{self.ruta}/{self.fichero}', mode = 'r', encoding = 'latin-1') as fichero_txt:\n",
    "            lista_apertura = fichero_txt.readlines()\n",
    "            string_apertura = ''.join(lista_apertura)\n",
    "            return string_apertura\n",
    "                \n",
    "\n",
    "    def lectura_palabras(self, num_palabras_leer):\n",
    "        '''Lee un número de palabras del texto, el que se le indique como argumento.\n",
    "        Parámetro: número de palabras que se desean leer.\n",
    "        Return: Esas palabras.\n",
    "        '''\n",
    "        if type(num_palabras_leer) is not int:\n",
    "            print('Prueba otra vez, debes introducir un número que no tenga decimales')\n",
    "        \n",
    "        else:\n",
    "            with open (f'{self.ruta}/{self.fichero}', mode = 'r', encoding = 'latin-1') as fichero_txt:\n",
    "                lectura_fichero = fichero_txt.readlines() #devuelve una lista de strings con las líneas del texto\n",
    "                string_lectura_fichero = ''.join(lectura_fichero)\n",
    "                lista_palabras = string_lectura_fichero.split() #separa el string en palabras. Se hace esto porque se necesitan palabras y no líneas.\n",
    "                return lista_palabras[0:num_palabras_leer]\n",
    "        \n",
    "\n",
    "    def lectura_lineas(self):\n",
    "        '''Lee un número de líneas del texto, el que el usuario le indique dentro de un input.\n",
    "        Parámetro: Este método no recibe parámetros, se consigue con un input.\n",
    "        Return: Esas palabras.\n",
    "        '''\n",
    "        with open (f'{self.ruta}/{self.fichero}', mode = 'r', encoding = 'latin-1') as fichero_txt:\n",
    "            lectura_lineas = fichero_txt.readlines() #devuelve una lista de strings con las líneas del texto. Como queremos trabajar con lineas, no se hace join.\n",
    "\n",
    "        num_lineas_leer = input('¿Cuántas líneas quieres leer?')\n",
    "\n",
    "        try:\n",
    "            if num_lineas_leer == 'Todas' or num_lineas_leer == 'todas':\n",
    "                lineas_leer_todo = lectura_lineas[0:-1]\n",
    "                return ''.join(lineas_leer_todo) #Se realiza join para que devuelva un único string.\n",
    "\n",
    "            if type(int(num_lineas_leer)) is int:\n",
    "                lineas_leer = lectura_lineas[0:int(num_lineas_leer)]\n",
    "                return ''.join(lineas_leer) #Se realiza join para que devuelva un único string.\n",
    "                    \n",
    "        except:\n",
    "            print('Prueba otra vez, debes escribir un número sin decimales, o \"Todas\", si quieres leer todas las líneas')\n",
    "\n",
    "\n",
    "    def contenido_libro(self, linea_inicio, linea_final):\n",
    "        '''Devuelve el contenido del libro dentro del archivo, comprendido entre dos líneas.\n",
    "        Parámetros: dos: la línea en la que debe empezar el contenido y la línea en la que debe acabar.\n",
    "        Return: Contenido del libro.\n",
    "        '''        \n",
    "        with open (f'{self.ruta}/{self.fichero}', mode = 'r', encoding = 'latin-1') as fichero_txt:\n",
    "            lectura_contenido = fichero_txt.readlines()\n",
    "\n",
    "        try: # usamos try porque index puede devolver error y queremos evitarlo.\n",
    "            texto_libro = lectura_contenido[linea_inicio:linea_final] #se buscan las líneas de la lista por medio de sus índices\n",
    "            return texto_libro\n",
    "        \n",
    "        except:\n",
    "            print('Prueba otra vez, revisa las líneas que quieres añadir')\n",
    "\n",
    "\n",
    "    def extraccion_palabra(self, palabra):\n",
    "        '''Busca cuántas veces aparece en el texto una palabra concreta.\n",
    "        Parámetro: La palabra que debe buscar.\n",
    "        Return: Las veces que sale esa palabra.\n",
    "        '''\n",
    "        with open (f'{self.ruta}/{self.fichero}', mode = 'r', encoding = 'latin-1') as fichero_txt:\n",
    "            sacar_palabras = fichero_txt.readlines()\n",
    "            string_sacar_palabras = ''.join(sacar_palabras)\n",
    "\n",
    "        num_veces = string_sacar_palabras.count(palabra.lower())\n",
    "        num_veces += string_sacar_palabras.count(palabra.title()) #se unifican las palabras que empiezan por mayus y minus\n",
    "        return num_veces"
   ]
  },
  {
   "cell_type": "code",
   "execution_count": 3,
   "metadata": {},
   "outputs": [
    {
     "data": {
      "text/plain": [
       "'Project Gutenberg Etext of Don Quijote, by Cervantes, in Spanish\\n\\n#2 in our series by Cervantes\\n\\n\\n\\nW'"
      ]
     },
     "execution_count": 3,
     "metadata": {},
     "output_type": "execute_result"
    }
   ],
   "source": [
    "quijote = Estudio_textos()\n",
    "apertura_txt_result = quijote.apertura_ficheros(\"../data/\", \"quijote.txt\")\n",
    "apertura_txt_result[0:100]"
   ]
  },
  {
   "cell_type": "code",
   "execution_count": 4,
   "metadata": {},
   "outputs": [
    {
     "data": {
      "text/plain": [
       "'Project Gutenberg Etext of Don Quijote, by Cervantes, in Spanish\\n\\n#2 in our series by Cervantes\\n\\n\\n\\nW'"
      ]
     },
     "execution_count": 4,
     "metadata": {},
     "output_type": "execute_result"
    }
   ],
   "source": [
    "quijote = Estudio_textos(\"data/\", \"quijote.txt\")\n",
    "apertura_generica_result = quijote.apertura_ficheros()\n",
    "apertura_generica_result[0:100]"
   ]
  },
  {
   "cell_type": "code",
   "execution_count": 5,
   "metadata": {},
   "outputs": [
    {
     "data": {
      "text/plain": [
       "['Project',\n",
       " 'Gutenberg',\n",
       " 'Etext',\n",
       " 'of',\n",
       " 'Don',\n",
       " 'Quijote,',\n",
       " 'by',\n",
       " 'Cervantes,',\n",
       " 'in',\n",
       " 'Spanish',\n",
       " '#2',\n",
       " 'in',\n",
       " 'our',\n",
       " 'series',\n",
       " 'by',\n",
       " 'Cervantes',\n",
       " 'We',\n",
       " 'will',\n",
       " 'be',\n",
       " 'presenting']"
      ]
     },
     "execution_count": 5,
     "metadata": {},
     "output_type": "execute_result"
    }
   ],
   "source": [
    "quijote = Estudio_textos(\"data/\", \"quijote.txt\")\n",
    "lectura_palabras_result = quijote.lectura_palabras(20)\n",
    "lectura_palabras_result"
   ]
  },
  {
   "cell_type": "code",
   "execution_count": 6,
   "metadata": {},
   "outputs": [
    {
     "data": {
      "text/plain": [
       "'Project Gutenberg Etext of Don Quijote, by Cervantes, in Spanish\\n\\n#2 in our series by Cervantes\\n'"
      ]
     },
     "execution_count": 6,
     "metadata": {},
     "output_type": "execute_result"
    }
   ],
   "source": [
    "quijote = Estudio_textos(\"data/\", \"quijote.txt\")\n",
    "lectura_lineas_result = quijote.lectura_lineas()\n",
    "lectura_lineas_result"
   ]
  },
  {
   "cell_type": "code",
   "execution_count": 7,
   "metadata": {},
   "outputs": [
    {
     "data": {
      "text/plain": [
       "['En un lugar de la Mancha, de cuyo nombre no quiero acordarme, no ha mucho\\n',\n",
       " '\\n',\n",
       " 'tiempo que vivía un hidalgo de los de lanza en astillero, adarga antigua,\\n',\n",
       " '\\n',\n",
       " 'rocín flaco y galgo corredor. Una olla de algo más vaca que carnero,\\n',\n",
       " '\\n',\n",
       " 'salpicón las más noches, duelos y quebrantos los sábados, lantejas los\\n',\n",
       " '\\n',\n",
       " 'viernes, algún palomino de añadidura los domingos, consumían las tres\\n',\n",
       " '\\n']"
      ]
     },
     "execution_count": 7,
     "metadata": {},
     "output_type": "execute_result"
    }
   ],
   "source": [
    "quijote = Estudio_textos(\"data/\", \"quijote.txt\")\n",
    "lectura_contenido_result = quijote.contenido_libro(1780, 74276)\n",
    "lectura_contenido_result[:10]"
   ]
  },
  {
   "cell_type": "code",
   "execution_count": 8,
   "metadata": {},
   "outputs": [
    {
     "name": "stdout",
     "output_type": "stream",
     "text": [
      "2171\n",
      "10\n",
      "76\n",
      "--------\n",
      "2171\n",
      "10\n",
      "76\n"
     ]
    }
   ],
   "source": [
    "quijote = Estudio_textos(\"data/\", \"quijote.txt\")\n",
    "\n",
    "num_veces_quijote = quijote.extraccion_palabra('quijote')\n",
    "print(num_veces_quijote)\n",
    "num_veces_alonso = quijote.extraccion_palabra('alonso')\n",
    "print(num_veces_alonso)\n",
    "num_veces_don_quijote = quijote.extraccion_palabra('don quijote')\n",
    "print(num_veces_don_quijote)\n",
    "\n",
    "print('--------')\n",
    "\n",
    "num_veces_quijote_mayus = quijote.extraccion_palabra('Quijote')\n",
    "print(num_veces_quijote_mayus)\n",
    "num_veces_alonso_mayus = quijote.extraccion_palabra('Alonso')\n",
    "print(num_veces_alonso_mayus)\n",
    "num_veces_don_quijote_mayus = quijote.extraccion_palabra('Don Quijote')\n",
    "print(num_veces_don_quijote_mayus)\n"
   ]
  }
 ],
 "metadata": {
  "kernelspec": {
   "display_name": "Python 3",
   "language": "python",
   "name": "python3"
  },
  "language_info": {
   "codemirror_mode": {
    "name": "ipython",
    "version": 3
   },
   "file_extension": ".py",
   "mimetype": "text/x-python",
   "name": "python",
   "nbconvert_exporter": "python",
   "pygments_lexer": "ipython3",
   "version": "3.10.11"
  },
  "orig_nbformat": 4,
  "vscode": {
   "interpreter": {
    "hash": "31f2aee4e71d21fbe5cf8b01ff0e069b9275f58929596ceb00d14d90e3e16cd6"
   }
  }
 },
 "nbformat": 4,
 "nbformat_minor": 2
}
